{
 "cells": [
  {
   "cell_type": "markdown",
   "metadata": {},
   "source": [
    "### Data Generation"
   ]
  },
  {
   "cell_type": "code",
   "execution_count": 1,
   "metadata": {},
   "outputs": [],
   "source": [
    "import random\n",
    "from typing import Tuple, List\n",
    "\n",
    "import numpy as np\n",
    "\n",
    "from Base.bp2DState import State\n",
    "from Base.bp2DBox import Box\n",
    "from Base.bpReadWrite import ReadWrite\n",
    "from Base.bp2DPnt import Point\n",
    "from Base.bpStateGenerators import sliced_box_state_generator\n",
    "\n",
    "import csv"
   ]
  },
  {
   "cell_type": "code",
   "execution_count": 2,
   "metadata": {},
   "outputs": [],
   "source": [
    "def output(state_from_sliced_box_state_generator, filename='D:/Dataset_1/buf.csv'):\n",
    "    state = []\n",
    "    with open(filename) as csvfile:\n",
    "        file = csv.reader(csvfile)\n",
    "        for row in file:\n",
    "            state.append(row)\n",
    "    # print(state)\n",
    "    out = []\n",
    "    for k in range(15,len(state)):\n",
    "        for z in range(5):\n",
    "            buf = int(state[k][0].split()[z])\n",
    "            out.append(buf)\n",
    "    # print(output)\n",
    "    return out   "
   ]
  },
  {
   "cell_type": "code",
   "execution_count": 3,
   "metadata": {},
   "outputs": [],
   "source": [
    "def unsolve_state(state, shuffle=True):\n",
    "    boxes = state.boxes_open + [box for bin in state.bins for box in bin.boxes_stored]\n",
    "    if shuffle:\n",
    "        random.shuffle(boxes)\n",
    "    new_boxes = [Box(box.w, box.h) for box in boxes]\n",
    "    return State(1, state.bin_size, new_boxes)"
   ]
  },
  {
   "cell_type": "code",
   "execution_count": 4,
   "metadata": {},
   "outputs": [],
   "source": [
    "def inp(state_unsolved):\n",
    "    inputt = []\n",
    "    for k in range(len(state_unsolved.boxes_open)):\n",
    "        width = state_unsolved.boxes_open[k].w\n",
    "        height = state_unsolved.boxes_open[k].h\n",
    "        inputt.append(width)\n",
    "        inputt.append(height)\n",
    "    # print(type(inputt))\n",
    "    return inputt"
   ]
  },
  {
   "cell_type": "code",
   "execution_count": 7,
   "metadata": {},
   "outputs": [],
   "source": [
    "def dataset_generation(num_samples, binnum=8, boxnum=100, \n",
    "                       boxwidthmin=1, boxwidthmax=4,\n",
    "                       boxheightmin=1, boxheightmax=4,\n",
    "                       filepath='D:/Dataset_1/'):\n",
    "    input_file = []\n",
    "    output_file = []\n",
    "    \n",
    "    for k in range(num_samples):\n",
    "        state = sliced_box_state_generator((10,10), bin_num=binnum, box_num=boxnum, peel_area=100,\n",
    "                          box_width_min=boxwidthmin, box_width_max=boxwidthmax,\n",
    "                          box_height_min=boxheightmin, box_height_max=boxheightmax,\n",
    "                                          path='D:/Dataset_1/buf.csv')\n",
    "        out = output(state)\n",
    "        output_file.append(out)\n",
    "        \n",
    "        state_unsolved = unsolve_state(state, shuffle=False)\n",
    "        inp_ = inp(state_unsolved)\n",
    "        input_file.append(inp_)\n",
    "        \n",
    "    output_file = np.array(output_file)\n",
    "    input_file = np.array(input_file)\n",
    "    np.save(filepath+'input.npy', input_file)\n",
    "    np.save(filepath+'output.npy', output_file)\n",
    "    return output_file, input_file"
   ]
  },
  {
   "cell_type": "code",
   "execution_count": 10,
   "metadata": {},
   "outputs": [],
   "source": [
    "[output_file, input_file] = dataset_generation(100)"
   ]
  },
  {
   "cell_type": "code",
   "execution_count": 11,
   "metadata": {},
   "outputs": [
    {
     "name": "stdout",
     "output_type": "stream",
     "text": [
      "[[3 2 1 ... 2 1 2]\n",
      " [5 2 3 ... 6 1 6]\n",
      " [1 9 1 ... 4 2 2]\n",
      " ...\n",
      " [2 1 1 ... 4 2 3]\n",
      " [1 1 1 ... 1 1 1]\n",
      " [2 1 1 ... 1 3 1]]\n",
      "[[3 2 0 ... 8 8 7]\n",
      " [5 2 0 ... 9 4 7]\n",
      " [1 9 0 ... 7 8 7]\n",
      " ...\n",
      " [2 1 0 ... 8 6 7]\n",
      " [1 1 0 ... 9 9 7]\n",
      " [2 1 0 ... 7 9 7]]\n"
     ]
    }
   ],
   "source": [
    "dataset_input = np.load('D:/Dataset_1/input.npy', allow_pickle=True) \n",
    "dataset_output = np.load('D:/Dataset_1/output.npy', allow_pickle=True) \n",
    "print(dataset_input)\n",
    "print(dataset_output)"
   ]
  }
 ],
 "metadata": {
  "kernelspec": {
   "display_name": "Python 3",
   "language": "python",
   "name": "python3"
  },
  "language_info": {
   "codemirror_mode": {
    "name": "ipython",
    "version": 3
   },
   "file_extension": ".py",
   "mimetype": "text/x-python",
   "name": "python",
   "nbconvert_exporter": "python",
   "pygments_lexer": "ipython3",
   "version": "3.8.3"
  }
 },
 "nbformat": 4,
 "nbformat_minor": 4
}
