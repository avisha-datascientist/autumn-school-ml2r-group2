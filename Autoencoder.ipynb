{
 "cells": [
  {
   "cell_type": "code",
   "execution_count": 15,
   "metadata": {},
   "outputs": [
    {
     "name": "stdout",
     "output_type": "stream",
     "text": [
      "[[3 3 6 ... 4 1 6]\n",
      " [1 2 2 ... 3 6 3]\n",
      " [3 8 3 ... 1 1 3]\n",
      " ...\n",
      " [1 8 1 ... 1 6 2]\n",
      " [3 1 3 ... 9 2 9]\n",
      " [2 1 3 ... 3 1 2]]\n",
      "[[3 3 0 ... 9 4 7]\n",
      " [1 2 0 ... 4 6 7]\n",
      " [3 8 0 ... 1 7 7]\n",
      " ...\n",
      " [1 8 0 ... 4 8 7]\n",
      " [3 1 0 ... 8 1 7]\n",
      " [2 1 0 ... 9 7 7]]\n"
     ]
    }
   ],
   "source": [
    "import numpy as np\n",
    "\n",
    "dataset_input = np.load('D:/Dataset_1/input.npy', allow_pickle=True) \n",
    "dataset_output = np.load('D:/Dataset_1/output.npy', allow_pickle=True) \n",
    "print(dataset_input)\n",
    "print(dataset_output)"
   ]
  },
  {
   "cell_type": "code",
   "execution_count": 16,
   "metadata": {},
   "outputs": [
    {
     "name": "stdout",
     "output_type": "stream",
     "text": [
      "(1600, 200)\n",
      "(1600, 500)\n",
      "(400, 200)\n",
      "(400, 500)\n"
     ]
    }
   ],
   "source": [
    "from sklearn.model_selection import train_test_split\n",
    "X_train, X_test, y_train, y_test = train_test_split(dataset_input, dataset_output, test_size=0.2, random_state=1)\n",
    "\n",
    "print(X_train.shape)\n",
    "print(y_train.shape)\n",
    "print(X_test.shape)\n",
    "print(y_test.shape)"
   ]
  },
  {
   "cell_type": "code",
   "execution_count": 3,
   "metadata": {},
   "outputs": [
    {
     "data": {
      "text/plain": [
       "numpy.ndarray"
      ]
     },
     "execution_count": 3,
     "metadata": {},
     "output_type": "execute_result"
    }
   ],
   "source": [
    "type(X_train)"
   ]
  },
  {
   "cell_type": "code",
   "execution_count": 23,
   "metadata": {},
   "outputs": [],
   "source": [
    "from keras.layers import Input, Dense\n",
    "from keras.models import Model\n",
    "\n",
    "def create_dense_ae():\n",
    "    # Dimension of coded representation\n",
    "    encoding_dim = 200\n",
    "\n",
    "    # Encoder\n",
    "    # Input placeholder\n",
    "    input_element = Input(shape=200) # 1, 200, 1 - dimensions of strings, cloumns and filters of one sample element\n",
    "    # Representation coded with fully connected layer\n",
    "    encoded = Dense(encoding_dim, activation='relu')(input_element)\n",
    "    \n",
    "    # Decoder\n",
    "    # Representation uncoded with another fully connected layer\n",
    "    input_encoded = Input(shape=(encoding_dim,))\n",
    "    decoded = Dense(1*500, activation='sigmoid')(input_encoded)\n",
    "\n",
    "    # Model(input_layer, output_layer)\n",
    "    # Model(model_1, model_2)\n",
    "    encoder = Model(input_element, encoded, name=\"encoder\")\n",
    "    decoder = Model(input_encoded, decoded, name=\"decoder\")\n",
    "    autoencoder = Model(input_element, decoder(encoder(input_element)), name=\"autoencoder\")\n",
    "    return encoder, decoder, autoencoder"
   ]
  },
  {
   "cell_type": "code",
   "execution_count": 24,
   "metadata": {},
   "outputs": [],
   "source": [
    "encoder, decoder, autoencoder = create_dense_ae()\n",
    "autoencoder.compile(optimizer='adam', loss='binary_crossentropy')"
   ]
  },
  {
   "cell_type": "code",
   "execution_count": 25,
   "metadata": {},
   "outputs": [
    {
     "name": "stdout",
     "output_type": "stream",
     "text": [
      "Model: \"autoencoder\"\n",
      "_________________________________________________________________\n",
      "Layer (type)                 Output Shape              Param #   \n",
      "=================================================================\n",
      "input_9 (InputLayer)         [(None, 200)]             0         \n",
      "_________________________________________________________________\n",
      "encoder (Functional)         (None, 200)               40200     \n",
      "_________________________________________________________________\n",
      "decoder (Functional)         (None, 500)               100500    \n",
      "=================================================================\n",
      "Total params: 140,700\n",
      "Trainable params: 140,700\n",
      "Non-trainable params: 0\n",
      "_________________________________________________________________\n"
     ]
    }
   ],
   "source": [
    "autoencoder.summary()"
   ]
  },
  {
   "cell_type": "code",
   "execution_count": 26,
   "metadata": {},
   "outputs": [
    {
     "name": "stdout",
     "output_type": "stream",
     "text": [
      "Epoch 1/50\n",
      "16/16 [==============================] - 0s 13ms/step - loss: -12.0821 - val_loss: -41.7134\n",
      "Epoch 2/50\n",
      "16/16 [==============================] - 0s 5ms/step - loss: -110.7796 - val_loss: -222.2404\n",
      "Epoch 3/50\n",
      "16/16 [==============================] - 0s 5ms/step - loss: -388.8164 - val_loss: -624.0000\n",
      "Epoch 4/50\n",
      "16/16 [==============================] - 0s 5ms/step - loss: -915.4444 - val_loss: -1301.2582\n",
      "Epoch 5/50\n",
      "16/16 [==============================] - 0s 6ms/step - loss: -1733.0642 - val_loss: -2284.3914\n",
      "Epoch 6/50\n",
      "16/16 [==============================] - 0s 5ms/step - loss: -2864.0540 - val_loss: -3588.6826\n",
      "Epoch 7/50\n",
      "16/16 [==============================] - 0s 5ms/step - loss: -4319.8589 - val_loss: -5221.6714\n",
      "Epoch 8/50\n",
      "16/16 [==============================] - 0s 6ms/step - loss: -6104.8364 - val_loss: -7184.7051\n",
      "Epoch 9/50\n",
      "16/16 [==============================] - 0s 6ms/step - loss: -8219.6611 - val_loss: -9478.7412\n",
      "Epoch 10/50\n",
      "16/16 [==============================] - 0s 6ms/step - loss: -10665.1836 - val_loss: -12103.5566\n",
      "Epoch 11/50\n",
      "16/16 [==============================] - 0s 5ms/step - loss: -13440.7783 - val_loss: -15059.2148\n",
      "Epoch 12/50\n",
      "16/16 [==============================] - 0s 6ms/step - loss: -16546.5391 - val_loss: -18344.5684\n",
      "Epoch 13/50\n",
      "16/16 [==============================] - 0s 6ms/step - loss: -19979.9082 - val_loss: -21956.0820\n",
      "Epoch 14/50\n",
      "16/16 [==============================] - 0s 6ms/step - loss: -23737.1973 - val_loss: -25890.0645\n",
      "Epoch 15/50\n",
      "16/16 [==============================] - 0s 6ms/step - loss: -27814.9531 - val_loss: -30143.2969\n",
      "Epoch 16/50\n",
      "16/16 [==============================] - 0s 6ms/step - loss: -32210.0273 - val_loss: -34712.7461\n",
      "Epoch 17/50\n",
      "16/16 [==============================] - ETA: 0s - loss: -36442.88 - 0s 7ms/step - loss: -36919.5586 - val_loss: -39595.6914\n",
      "Epoch 18/50\n",
      "16/16 [==============================] - 0s 7ms/step - loss: -41940.8711 - val_loss: -44789.4766\n",
      "Epoch 19/50\n",
      "16/16 [==============================] - 0s 6ms/step - loss: -47271.4297 - val_loss: -50291.6992\n",
      "Epoch 20/50\n",
      "16/16 [==============================] - 0s 5ms/step - loss: -52908.8164 - val_loss: -56099.9453\n",
      "Epoch 21/50\n",
      "16/16 [==============================] - 0s 6ms/step - loss: -58850.6992 - val_loss: -62211.8555\n",
      "Epoch 22/50\n",
      "16/16 [==============================] - 0s 7ms/step - loss: -65094.7969 - val_loss: -68625.3516\n",
      "Epoch 23/50\n",
      "16/16 [==============================] - 0s 6ms/step - loss: -71638.9531 - val_loss: -75338.1875\n",
      "Epoch 24/50\n",
      "16/16 [==============================] - 0s 6ms/step - loss: -78481.0078 - val_loss: -82348.2422\n",
      "Epoch 25/50\n",
      "16/16 [==============================] - 0s 6ms/step - loss: -85618.8672 - val_loss: -89653.3672\n",
      "Epoch 26/50\n",
      "16/16 [==============================] - 0s 7ms/step - loss: -93050.5000 - val_loss: -97251.7031\n",
      "Epoch 27/50\n",
      "16/16 [==============================] - 0s 7ms/step - loss: -100773.8594 - val_loss: -105141.1328\n",
      "Epoch 28/50\n",
      "16/16 [==============================] - 0s 7ms/step - loss: -108786.9609 - val_loss: -113319.6797\n",
      "Epoch 29/50\n",
      "16/16 [==============================] - 0s 7ms/step - loss: -117087.9531 - val_loss: -121785.5781\n",
      "Epoch 30/50\n",
      "16/16 [==============================] - 0s 6ms/step - loss: -125674.8828 - val_loss: -130536.7969\n",
      "Epoch 31/50\n",
      "16/16 [==============================] - 0s 6ms/step - loss: -134545.8906 - val_loss: -139571.5000\n",
      "Epoch 32/50\n",
      "16/16 [==============================] - 0s 6ms/step - loss: -143699.0781 - val_loss: -148887.9062\n",
      "Epoch 33/50\n",
      "16/16 [==============================] - 0s 5ms/step - loss: -153132.7344 - val_loss: -158484.2344\n",
      "Epoch 34/50\n",
      "16/16 [==============================] - 0s 5ms/step - loss: -162845.0469 - val_loss: -168358.5938\n",
      "Epoch 35/50\n",
      "16/16 [==============================] - 0s 6ms/step - loss: -172834.2031 - val_loss: -178509.4375\n",
      "Epoch 36/50\n",
      "16/16 [==============================] - 0s 6ms/step - loss: -183098.5469 - val_loss: -188934.9219\n",
      "Epoch 37/50\n",
      "16/16 [==============================] - 0s 5ms/step - loss: -193636.3125 - val_loss: -199633.2812\n",
      "Epoch 38/50\n",
      "16/16 [==============================] - 0s 6ms/step - loss: -204445.8125 - val_loss: -210602.8594\n",
      "Epoch 39/50\n",
      "16/16 [==============================] - 0s 6ms/step - loss: -215525.4375 - val_loss: -221842.1406\n",
      "Epoch 40/50\n",
      "16/16 [==============================] - 0s 5ms/step - loss: -226873.5000 - val_loss: -233349.4219\n",
      "Epoch 41/50\n",
      "16/16 [==============================] - 0s 6ms/step - loss: -238488.3438 - val_loss: -245123.0000\n",
      "Epoch 42/50\n",
      "16/16 [==============================] - 0s 6ms/step - loss: -250368.4531 - val_loss: -257161.3125\n",
      "Epoch 43/50\n",
      "16/16 [==============================] - 0s 5ms/step - loss: -262512.1562 - val_loss: -269462.9688\n",
      "Epoch 44/50\n",
      "16/16 [==============================] - 0s 6ms/step - loss: -274918.0938 - val_loss: -282026.2500\n",
      "Epoch 45/50\n",
      "16/16 [==============================] - 0s 5ms/step - loss: -287584.4062 - val_loss: -294849.5625\n",
      "Epoch 46/50\n",
      "16/16 [==============================] - 0s 6ms/step - loss: -300509.8750 - val_loss: -307931.5938\n",
      "Epoch 47/50\n",
      "16/16 [==============================] - 0s 5ms/step - loss: -313692.8438 - val_loss: -321270.7500\n",
      "Epoch 48/50\n",
      "16/16 [==============================] - 0s 5ms/step - loss: -327131.8125 - val_loss: -334865.4062\n",
      "Epoch 49/50\n",
      "16/16 [==============================] - 0s 6ms/step - loss: -340825.3750 - val_loss: -348714.2500\n",
      "Epoch 50/50\n",
      "16/16 [==============================] - 0s 6ms/step - loss: -354772.0000 - val_loss: -362815.9062\n"
     ]
    },
    {
     "data": {
      "text/plain": [
       "<tensorflow.python.keras.callbacks.History at 0x2bd9dd4d220>"
      ]
     },
     "execution_count": 26,
     "metadata": {},
     "output_type": "execute_result"
    }
   ],
   "source": [
    "autoencoder.fit(X_train, y_train,\n",
    "                epochs=50,\n",
    "                batch_size=100,\n",
    "                shuffle=False,\n",
    "                validation_data=(X_test, y_test))"
   ]
  },
  {
   "cell_type": "code",
   "execution_count": null,
   "metadata": {},
   "outputs": [],
   "source": []
  }
 ],
 "metadata": {
  "kernelspec": {
   "display_name": "Python 3",
   "language": "python",
   "name": "python3"
  },
  "language_info": {
   "codemirror_mode": {
    "name": "ipython",
    "version": 3
   },
   "file_extension": ".py",
   "mimetype": "text/x-python",
   "name": "python",
   "nbconvert_exporter": "python",
   "pygments_lexer": "ipython3",
   "version": "3.8.3"
  }
 },
 "nbformat": 4,
 "nbformat_minor": 4
}
