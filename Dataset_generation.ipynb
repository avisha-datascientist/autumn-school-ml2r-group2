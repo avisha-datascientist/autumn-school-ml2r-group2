{
 "cells": [
  {
   "cell_type": "markdown",
   "metadata": {},
   "source": [
    "### Data Generation"
   ]
  },
  {
   "cell_type": "code",
   "execution_count": 15,
   "metadata": {},
   "outputs": [],
   "source": [
    "import random\n",
    "from typing import Tuple, List\n",
    "\n",
    "import numpy as np\n",
    "\n",
    "from Base.bp2DState import State\n",
    "from Base.bp2DBox import Box\n",
    "from Base.bpReadWrite import ReadWrite\n",
    "from Base.bp2DPnt import Point\n",
    "from Base.bpStateGenerators import sliced_box_state_generator\n",
    "\n",
    "import csv"
   ]
  },
  {
   "cell_type": "code",
   "execution_count": 17,
   "metadata": {},
   "outputs": [],
   "source": [
    "def output(state_from_sliced_box_state_generator, filename='D:/Dataset_1/buf.csv'):\n",
    "    state = []\n",
    "    with open(filename) as csvfile:\n",
    "        file = csv.reader(csvfile)\n",
    "        for row in file:\n",
    "            state.append(row)\n",
    "    # print(state)\n",
    "    out = []\n",
    "    for k in range(15,len(state)):\n",
    "        for z in range(5):\n",
    "            buf = int(state[k][0].split()[z])\n",
    "            out.append(buf)\n",
    "    # print(output)\n",
    "    return out   "
   ]
  },
  {
   "cell_type": "code",
   "execution_count": 19,
   "metadata": {},
   "outputs": [],
   "source": [
    "def unsolve_state(state, shuffle=True):\n",
    "    boxes = state.boxes_open + [box for bin in state.bins for box in bin.boxes_stored]\n",
    "    if shuffle:\n",
    "        random.shuffle(boxes)\n",
    "    new_boxes = [Box(box.w, box.h) for box in boxes]\n",
    "    return State(1, state.bin_size, new_boxes)"
   ]
  },
  {
   "cell_type": "code",
   "execution_count": 36,
   "metadata": {},
   "outputs": [],
   "source": [
    "def inp(state_unsolved):\n",
    "    inputt = []\n",
    "    for k in range(len(state_unsolved.boxes_open)):\n",
    "        width = state_unsolved.boxes_open[k].w\n",
    "        height = state_unsolved.boxes_open[k].h\n",
    "        inputt.append(width)\n",
    "        inputt.append(height)\n",
    "    # print(type(inputt))\n",
    "    return inputt"
   ]
  },
  {
   "cell_type": "code",
   "execution_count": 73,
   "metadata": {},
   "outputs": [],
   "source": [
    "def dataset_generation(num_samples, binnum=8, boxnum=100, \n",
    "                       boxwidthmin=1, boxwidthmax=4,\n",
    "                       boxheightmin=1, boxheightmax=4,\n",
    "                       filepath='D:/Dataset_1/'):\n",
    "    input_file = []\n",
    "    output_file = []\n",
    "    \n",
    "    for k in range(num_samples):\n",
    "        state = sliced_box_state_generator((10,10), bin_num=binnum, box_num=boxnum, peel_area=100,\n",
    "                          box_width_min=boxwidthmin, box_width_max=boxwidthmax,\n",
    "                          box_height_min=boxheightmin, box_height_max=boxheightmax,\n",
    "                                          path='D:/Dataset_1/buf.csv')\n",
    "        out = output(state)\n",
    "        output_file.append(out)\n",
    "        \n",
    "        state_unsolved = unsolve_state(state1, shuffle=False)\n",
    "        inp_ = inp(state_unsolved)\n",
    "        input_file.append(inp_)\n",
    "        \n",
    "    output_file = np.array(output_file)\n",
    "    input_file = np.array(input_file)\n",
    "    np.save(filepath+'input.npy', input_file)\n",
    "    np.save(filepath+'output.npy', output_file)\n",
    "    return output_file, input_file"
   ]
  },
  {
   "cell_type": "code",
   "execution_count": 74,
   "metadata": {},
   "outputs": [],
   "source": [
    "[output_file, input_file] = dataset_generation(3)"
   ]
  },
  {
   "cell_type": "code",
   "execution_count": 75,
   "metadata": {},
   "outputs": [
    {
     "name": "stdout",
     "output_type": "stream",
     "text": [
      "[[4 5 3 5 8 1 1 1 1 3 1 3 1 1 2 1 2 3 1 3 2 3 4 3 5 1 2 1 2 1 2 1 3 3 2 3\n",
      "  2 1 3 1 2 3 3 3 1 4 1 4 1 1 1 2 5 1 3 1 6 5 1 5 8 1 8 1 1 1 1 1 6 1 6 7\n",
      "  3 1 3 7 1 6 1 4 5 1 2 1 7 2 1 2 1 1 1 2 1 1 1 1 1 6 8 5 2 1 7 1 1 1 1 6\n",
      "  1 1 1 2 1 3 1 3 5 2 2 2 6 3 1 3 2 2 3 2 2 2 3 2 3 2 1 2 1 2 1 2 4 3 4 3\n",
      "  4 2 2 1 5 1 1 1 2 1 1 1 2 2 1 2 4 1 2 1 2 6 3 6 4 1 3 1 5 1 4 1 9 3 8 5\n",
      "  1 5 1 3 8 2 8 2 2 1 2 4 7 3 8 1 2 2 1 3]\n",
      " [4 5 3 5 8 1 1 1 1 3 1 3 1 1 2 1 2 3 1 3 2 3 4 3 5 1 2 1 2 1 2 1 3 3 2 3\n",
      "  2 1 3 1 2 3 3 3 1 4 1 4 1 1 1 2 5 1 3 1 6 5 1 5 8 1 8 1 1 1 1 1 6 1 6 7\n",
      "  3 1 3 7 1 6 1 4 5 1 2 1 7 2 1 2 1 1 1 2 1 1 1 1 1 6 8 5 2 1 7 1 1 1 1 6\n",
      "  1 1 1 2 1 3 1 3 5 2 2 2 6 3 1 3 2 2 3 2 2 2 3 2 3 2 1 2 1 2 1 2 4 3 4 3\n",
      "  4 2 2 1 5 1 1 1 2 1 1 1 2 2 1 2 4 1 2 1 2 6 3 6 4 1 3 1 5 1 4 1 9 3 8 5\n",
      "  1 5 1 3 8 2 8 2 2 1 2 4 7 3 8 1 2 2 1 3]\n",
      " [4 5 3 5 8 1 1 1 1 3 1 3 1 1 2 1 2 3 1 3 2 3 4 3 5 1 2 1 2 1 2 1 3 3 2 3\n",
      "  2 1 3 1 2 3 3 3 1 4 1 4 1 1 1 2 5 1 3 1 6 5 1 5 8 1 8 1 1 1 1 1 6 1 6 7\n",
      "  3 1 3 7 1 6 1 4 5 1 2 1 7 2 1 2 1 1 1 2 1 1 1 1 1 6 8 5 2 1 7 1 1 1 1 6\n",
      "  1 1 1 2 1 3 1 3 5 2 2 2 6 3 1 3 2 2 3 2 2 2 3 2 3 2 1 2 1 2 1 2 4 3 4 3\n",
      "  4 2 2 1 5 1 1 1 2 1 1 1 2 2 1 2 4 1 2 1 2 6 3 6 4 1 3 1 5 1 4 1 9 3 8 5\n",
      "  1 5 1 3 8 2 8 2 2 1 2 4 7 3 8 1 2 2 1 3]]\n",
      "[[7 5 0 0 0 9 1 0 5 0 1 3 9 0 0 1 3 9 3 0 3 1 0 6 0 3 3 0 7 0 6 3 3 6 0 7\n",
      "  1 3 9 0 4 1 0 0 1 5 3 0 1 1 5 1 5 0 1 5 3 5 1 1 2 4 0 4 1 2 2 0 8 1 8 1\n",
      "  2 4 1 8 5 2 5 1 7 1 0 0 2 1 2 8 0 2 5 8 0 2 2 3 7 6 2 2 1 6 9 0 2 1 4 9\n",
      "  6 2 7 1 0 0 3 8 1 0 1 3 2 2 8 0 3 2 1 8 2 3 9 4 0 3 3 8 1 0 9 3 1 1 9 3\n",
      "  3 1 6 9 4 3 2 1 0 0 4 2 3 0 2 4 8 2 2 0 4 7 2 2 2 4 6 2 0 5 4 6 3 0 7 4\n",
      "  4 2 6 5 4 4 3 6 7 4 7 3 0 0 5 3 3 7 0 5 6 6 0 3 5 4 7 6 3 5 4 2 0 0 6 4\n",
      "  1 4 0 6 9 7 0 2 6 1 8 9 2 6 8 5 0 0 7 1 5 8 0 7 8 5 0 5 7 2 5 8 5 7]\n",
      " [7 5 0 0 0 9 1 0 5 0 1 3 9 0 0 1 3 9 3 0 3 1 0 6 0 3 3 0 7 0 6 3 3 6 0 7\n",
      "  1 3 9 0 4 1 0 0 1 5 3 0 1 1 5 1 5 0 1 5 3 5 1 1 2 4 0 4 1 2 2 0 8 1 8 1\n",
      "  2 4 1 8 5 2 5 1 7 1 0 0 2 1 2 8 0 2 5 8 0 2 2 3 7 6 2 2 1 6 9 0 2 1 4 9\n",
      "  6 2 7 1 0 0 3 8 1 0 1 3 2 2 8 0 3 2 1 8 2 3 9 4 0 3 3 8 1 0 9 3 1 1 9 3\n",
      "  3 1 6 9 4 3 2 1 0 0 4 2 3 0 2 4 8 2 2 0 4 7 2 2 2 4 6 2 0 5 4 6 3 0 7 4\n",
      "  4 2 6 5 4 4 3 6 7 4 7 3 0 0 5 3 3 7 0 5 6 6 0 3 5 4 7 6 3 5 4 2 0 0 6 4\n",
      "  1 4 0 6 9 7 0 2 6 1 8 9 2 6 8 5 0 0 7 1 5 8 0 7 8 5 0 5 7 2 5 8 5 7]\n",
      " [7 5 0 0 0 9 1 0 5 0 1 3 9 0 0 1 3 9 3 0 3 1 0 6 0 3 3 0 7 0 6 3 3 6 0 7\n",
      "  1 3 9 0 4 1 0 0 1 5 3 0 1 1 5 1 5 0 1 5 3 5 1 1 2 4 0 4 1 2 2 0 8 1 8 1\n",
      "  2 4 1 8 5 2 5 1 7 1 0 0 2 1 2 8 0 2 5 8 0 2 2 3 7 6 2 2 1 6 9 0 2 1 4 9\n",
      "  6 2 7 1 0 0 3 8 1 0 1 3 2 2 8 0 3 2 1 8 2 3 9 4 0 3 3 8 1 0 9 3 1 1 9 3\n",
      "  3 1 6 9 4 3 2 1 0 0 4 2 3 0 2 4 8 2 2 0 4 7 2 2 2 4 6 2 0 5 4 6 3 0 7 4\n",
      "  4 2 6 5 4 4 3 6 7 4 7 3 0 0 5 3 3 7 0 5 6 6 0 3 5 4 7 6 3 5 4 2 0 0 6 4\n",
      "  1 4 0 6 9 7 0 2 6 1 8 9 2 6 8 5 0 0 7 1 5 8 0 7 8 5 0 5 7 2 5 8 5 7]]\n"
     ]
    }
   ],
   "source": [
    "dataset_input = np.load('D:/Dataset_1/input.npy', allow_pickle=True) \n",
    "dataset_output = np.load('D:/Dataset_1/output.npy', allow_pickle=True) \n",
    "print(dataset_input)\n",
    "print(dataset_output)"
   ]
  }
 ],
 "metadata": {
  "kernelspec": {
   "display_name": "Python 3",
   "language": "python",
   "name": "python3"
  },
  "language_info": {
   "codemirror_mode": {
    "name": "ipython",
    "version": 3
   },
   "file_extension": ".py",
   "mimetype": "text/x-python",
   "name": "python",
   "nbconvert_exporter": "python",
   "pygments_lexer": "ipython3",
   "version": "3.8.3"
  }
 },
 "nbformat": 4,
 "nbformat_minor": 4
}
